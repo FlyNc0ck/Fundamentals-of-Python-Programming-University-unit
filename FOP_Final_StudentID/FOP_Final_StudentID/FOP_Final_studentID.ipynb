{
 "cells": [
  {
   "cell_type": "markdown",
   "metadata": {},
   "source": [
    "# Final Assessment\n",
    "\n",
    "### Name:\n",
    "### Student ID:\n",
    "____\n",
    "\n",
    "### Instructions:\n",
    "\n",
    "* This Final Assessment has **Five Questions worth 50 Marks**. \n",
    "* You should attempt **ALL QUESTIONS**\n",
    "* Put your name and ID into the space above\n",
    "* Rename the Notebook to include your Student ID before going any further...\n",
    "* **You must answer within this Jupyter Notebook** and submit the saved notebook and data/code files to Blackboard.\n",
    "* Supplied data files are in the **data** directory and can be viewed and edited through the Jupyter Notebook dashboard.\n",
    "* You should also read the **Declaration of Originality** for this assessment - submitting your assessment indicates you agree to the Declaration.\n",
    "* **When finished:** \n",
    "  * Make sure the notebook and any edited files are saved\n",
    "  * Zip the notebook, the Declaration and the data/code files together\n",
    "  * **Upload the zipped bundle to Blackboard** \n",
    "\n",
    "### Contents:\n",
    "\n",
    "* [Question1](#Question-1)\n",
    "* [Question2](#Question-2)\n",
    "* [Question3](#Question-3)\n",
    "* [Question4](#Question-4)\n",
    "* [Question5](#Question-5)\n",
    "\n",
    "\n",
    "___"
   ]
  },
  {
   "cell_type": "markdown",
   "metadata": {},
   "source": [
    "### Question 1 - Data Types and Data Handling    (8 marks)\n",
    "\n",
    "#### Question 1a (2 marks)\n",
    "\n",
    "Write code to **create and print** an example of each of the following data types:\n",
    "1. int, float and boolean **(1/2 mark)**\n",
    "1. string and list **(1/2 mark)**\n",
    "1. tuple and set **(1 mark)**"
   ]
  },
  {
   "cell_type": "code",
   "execution_count": null,
   "metadata": {
    "collapsed": true
   },
   "outputs": [],
   "source": [
    "# answer Question 1a here...\n",
    "def print1():\n",
    "    textstring = input('Enter your text: ')\n",
    "    floatno = '15.786'\n",
    "    reform_floatno = '{:.2f}'.format(floatno)\n",
    "    "
   ]
  },
  {
   "cell_type": "markdown",
   "metadata": {},
   "source": [
    "#### Question 1b (2 marks)\n",
    "\n",
    "Given the initial lists provided, use **list comprehensions** to create the following new lists, then **print** them:\n",
    "\n",
    "1. **mashemup1** = List with new names (strings) made up of the first word in meeps and the second word of peeps (e.g. Foghorn Cleese)       **(1 mark)**\n",
    "1. **mashemup2** = List of strings with the initial character of the first word in peeps, a dot and space, the initial character of the second word in meeps, another dot and space and then the second word of creeps (e.g. J. L. Addamms) **(1 mark)**"
   ]
  },
  {
   "cell_type": "code",
   "execution_count": null,
   "metadata": {},
   "outputs": [],
   "source": [
    "meeps = [\"Foghorn Leghorn\", \"Elmer Fudd\", \"Road Runner\", \"Bugs Bunny\", \"Daffy Duck\", \"Tasmanian Devil\"]\n",
    "peeps = [\"John Cleese\", \"Michael Palin\", \"Terry Gilliam\", \"Terry Jones\", \"Graham Chapman\",\"Eric Idle\"]\n",
    "creeps = [\"Gomez Addamms\", \"Morticia Addams\", \"Wednesdday Addams\", \"Pugsley Addams\", \"Uncle Fester\", \"Cousin Itt\"]\n"
   ]
  },
  {
   "cell_type": "markdown",
   "metadata": {},
   "source": [
    "###### Question 1c (4 marks)\n",
    "\n",
    "Using the **cheeseshop.txt** script, process the text in the file to:\n",
    "1. Count the number of words in the text, ignoring punctuation and the character's names (where they are an indication of who says the line in the sketch) **(1 mark)**\n",
    "1. Output the number of unique words **(1/2 mark)**\n",
    "1. Output the number of times the word \"cheese\" is used **(1 mark)**\n",
    "1. Output the number of words that only appear once **(1/2 mark)**\n",
    "1. The data directory has four other scripts (deadparrot.txt, funniestjoke.txt, inquisition.txt, lumberjack.txt) choose one of them and repeat the four steps (above):   **(1 mark)**\n",
    "\n",
    "Code all answers to **ignore case**\n"
   ]
  },
  {
   "cell_type": "code",
   "execution_count": null,
   "metadata": {},
   "outputs": [],
   "source": [
    "filename = 'data/scripts/cheeseshop.txt'       # supplied in zip file\n",
    "script = open(filename).read()\n",
    "print(\"\\n TEXT ANALYSIS \\n\")\n",
    "#print(script)\n",
    "\n",
    "\n"
   ]
  },
  {
   "cell_type": "markdown",
   "metadata": {},
   "source": [
    "### * [Back to Top](#Contents)\n",
    "____\n",
    "### Question 2 - Arrays, Grids, Files and Plotting (14 marks)\n",
    "\n",
    "#### Question 2a (4 marks)\n",
    "\n",
    "Starting with the code and data below, modify and extend it to:\n",
    "\n",
    "1. Modify **heatsource.csv** (edit the file itself) to have *four 10's in the centre of the grid*     **(1/2 mark)**\n",
    "1. Add inline comments on each line to explain *each line* of the program  **(1 mark)**\n",
    "1. Replace the colour map with a map of your choice                       **(1/2 mark)**\n",
    "1. Increase the number of timesteps to 10 and display the plot at each timestep of the simulation                    **(1/2 mark)**\n",
    "1. Change the type of neighbourhood used to calculate the next value for each grid cell (weightings are not important) **(1 mark)**\n",
    "1. Print the minimum and maximum values in the final heat array **(1/2 mark)**\n"
   ]
  },
  {
   "cell_type": "code",
   "execution_count": 23,
   "metadata": {},
   "outputs": [
    {
     "data": {
      "image/png": "[encoded data removed]",
      "text/plain": [
       "<Figure size 432x288 with 1 Axes>"
      ]
     },
     "metadata": {},
     "output_type": "display_data"
    }
   ],
   "source": [
    "import numpy as np\n",
    "import matplotlib.pyplot as plt\n",
    "%matplotlib inline\n",
    "\n",
    "def calcheat(b):\n",
    "    result = (b[0,1]*0.1 + b[0,0]*0.05 + b[1,0]*0.1 + b[0,2]*0.05 + b[1,1]*0.4 + \n",
    "              b[1,2]*0.1 + b[2,0]*0.05 + b[2,1]*0.1 + b[2,2]*0.1 )\n",
    "    return result\n",
    "\n",
    "size = 10\n",
    "\n",
    "# read in heat source\n",
    "heatlist = []\n",
    "fileobj = open('data/heatsource.csv','r')\n",
    "for line in fileobj:\n",
    "    ints = [int(x) for x in line.split(',')]\n",
    "    heatlist.append(ints)\n",
    "fileobj.close()\n",
    "\n",
    "heatarray = np.array(heatlist, dtype=int)\n",
    "curr = heatarray.copy()\n",
    "nextt = np.zeros((size,size))\n",
    "\n",
    "for timestep in range(5):\n",
    "    for r in range(1, size-1):                              \n",
    "        for c in range (1, size-1 ):                          \n",
    "            nextt[r,c] = calcheat(curr[r-1:r+2,c-1:c+2])\n",
    "\n",
    "    nextt = np.where(heatarray>nextt, heatarray, nextt)          \n",
    "    curr = nextt.copy()                                       \n",
    "\n",
    "plt.imshow(nextt, cmap=plt.cm.hot)\n",
    "plt.show()\n"
   ]
  },
  {
   "cell_type": "markdown",
   "metadata": {},
   "source": [
    "#### Question 2b (3 marks) \n",
    "\n",
    "Write some code to:\n",
    "\n",
    "1. Create a variable called **randomwalk** at a random x,y position between 0 and 5  **(1 mark)**\n",
    "1. Over 10 steps, move the walker by one of: (-1,0,1) in both x and y dimensions **(1 mark)**\n",
    "1. Plot the path of the walker, with the title \"Random Walk\", with x and y as the axis labels **(1 mark)**"
   ]
  },
  {
   "cell_type": "code",
   "execution_count": null,
   "metadata": {
    "collapsed": true
   },
   "outputs": [],
   "source": [
    "# answer Question 2b here...\n",
    "\n",
    "    "
   ]
  },
  {
   "cell_type": "markdown",
   "metadata": {},
   "source": [
    "#### Question 2c (4 marks) \n",
    "\n",
    "Modify the below code to manipulate the image:\n",
    "\n",
    "1. Create and show a new image - **oogiepixel** to pixelate the oogie image choosing every 50th pixel with slicing **(1 mark)**\n",
    "1. Create and show a new image - **oogiecrop** to crop the oogie image by 100 pixels on each side with slicing **(1 mark)**\n",
    "1. Create and show a new image - **oogie1channel** to use only the 0 channel (of the third dimension) of the oogie image with slicing and recolour the image in **purples** by applying a colour map **(1 mark)**\n",
    "1. Show the four images (including the original) as subplots in a 2x2 grid, adding a title \"Oogie the Great\" over all the plots **(1 mark)**"
   ]
  },
  {
   "cell_type": "code",
   "execution_count": null,
   "metadata": {},
   "outputs": [],
   "source": [
    "# answer Question 2c here...\n",
    "%matplotlib notebook\n",
    "\n",
    "from PIL import Image\n",
    "import numpy as np\n",
    "import matplotlib.pyplot as plt\n",
    "\n",
    "oogie = np.array(Image.open('data/hotcat.jpg'))\n",
    "plt.imshow(oogie)\n",
    "#plt.show()\n"
   ]
  },
  {
   "cell_type": "markdown",
   "metadata": {},
   "source": [
    "#### Question 2d (3 marks)\n",
    "\n",
    "Given the animal list in the below code...\n",
    "\n",
    "1. Write a function **genAnimal()** to make random hybrid animals e.g. \"Parrot Moose\" or \"Albatross Hamster\". If the animals are the same type, the function should just return the animal type.  **(1 mark)**\n",
    "1. Write code to generate ten hybrid animals using the function **(1 mark)**\n",
    "1. Write the list of animals to a file, genAnimals.txt **(1 mark)**"
   ]
  },
  {
   "cell_type": "code",
   "execution_count": null,
   "metadata": {},
   "outputs": [],
   "source": [
    "# Answer for 2d ...\n",
    "fileobj = open(\"data/sourceAnimals.txt\", \"r\") \n",
    "animals = fileobj.readlines()\n",
    "#print(animal_list)\n"
   ]
  },
  {
   "cell_type": "markdown",
   "metadata": {},
   "source": [
    "* [Back to Top](#Contents)\n",
    "____\n",
    "### Question 3 - Functions and Structured Data (10 marks)\n",
    "\n",
    "#### Question 3a (1 mark)\n",
    "\n",
    "List three (3) benefits of using functions and methods in your programs"
   ]
  },
  {
   "cell_type": "markdown",
   "metadata": {},
   "source": [
    "*Answer for 3a...*"
   ]
  },
  {
   "cell_type": "markdown",
   "metadata": {},
   "source": [
    "#### Question 3b (1 mark)\n",
    "\n",
    "List two (2) differences between Pandas dataframes and numpy arrays.\n",
    " **(1/2 mark each)** "
   ]
  },
  {
   "cell_type": "markdown",
   "metadata": {},
   "source": [
    "*Answer for 3b...*"
   ]
  },
  {
   "cell_type": "markdown",
   "metadata": {},
   "source": [
    "#### Question 3c (2 marks)\n",
    "\n",
    "Give two examples of where you should always use exception handling, and how it is of benefit in each situation **(1 mark each)** "
   ]
  },
  {
   "cell_type": "markdown",
   "metadata": {},
   "source": [
    "*Answer for 3c...*"
   ]
  },
  {
   "cell_type": "markdown",
   "metadata": {},
   "source": [
    "#### Question 3d (3 marks)\n",
    "\n",
    "Edit the module **dominoes.py** in the Final Assessment directory. You can do this in the dashboard for Jupyter Notebook.\n",
    "\n",
    "Implement the following methods:\n",
    "\n",
    "1. **generate()** - creates a list of tuples to represent the pieces in a set of dominoes (maximum 6 dots) **(1 mark)**\n",
    "1. **chooseOne()** - randomly chooses a domino, removes it from the available list and returns the domino **(1 mark)**\n",
    "1. **display()** - displays all of the dominoes on the available list **(1 mark)**\n",
    " \n",
    "Write code to import the module and test the functionality **(1 mark)**"
   ]
  },
  {
   "cell_type": "code",
   "execution_count": null,
   "metadata": {
    "collapsed": true
   },
   "outputs": [],
   "source": [
    "#Answer for 3d... (also in dominoes.py)"
   ]
  },
  {
   "cell_type": "markdown",
   "metadata": {},
   "source": [
    "#### Question 3e (3 marks)\n",
    "\n",
    "Using **pandas**, work with the file **powerusage.csv**\n",
    "\n",
    "Write code to:\n",
    "1. Read in the data and print the dataframe **(given)**\n",
    "1. Print the **minimum and maximum** statistics for \"Average daily usage\" and for \"Number of billing days\" **(1/2 mark)**\n",
    "1. Plot the \"Average daily usage\" column as a bar chart, adding axis labels and a plot title **(1 mark)**\n",
    "1. Plot the \"Number of billing days\" column as a bar chart, adding axis labels and a plot title, and switch off the legend  **(1 mark)**\n",
    "1. Change the style of the plot **(1/2 mark)**"
   ]
  },
  {
   "cell_type": "code",
   "execution_count": null,
   "metadata": {
    "scrolled": true
   },
   "outputs": [],
   "source": [
    "# Answer for 3e\n",
    "%matplotlib notebook\n",
    "import matplotlib\n",
    "import pandas as pd\n",
    "\n",
    "df = pd.read_csv(\"data/powerusage.csv\") \n",
    "#print(df)\n",
    "matplotlib.style.use('fivethirtyeight') \n",
    "\n",
    "df.plot(x=\"Bill period end date\", y=\"Average daily usage\",kind=\"bar\", legend=False)\n",
    "df.plot(x=\"Bill period end date\", y=\"Number of billing days\",kind=\"bar\")"
   ]
  },
  {
   "cell_type": "markdown",
   "metadata": {},
   "source": [
    "## * [Back to Top](#Contents)\n",
    "____\n",
    "### Question 4 - Scripting and Automation (8 marks)\n",
    "\n",
    "#### Question 4a (2 marks) \n",
    "\n",
    "Provide an example of where a parameter sweep could be applied **(1 mark)**. Describe the role of the driver and the base code in the parameter sweep for your chosen example **(1 mark)**."
   ]
  },
  {
   "cell_type": "markdown",
   "metadata": {},
   "source": [
    "*Question 4a answer...*"
   ]
  },
  {
   "cell_type": "markdown",
   "metadata": {},
   "source": [
    "#### Question 4b (2 marks)\n",
    "\n",
    "Describe a application where you might use command line arguments **(1 mark)**, and two benefits they would give for your program **(1 mark)**"
   ]
  },
  {
   "cell_type": "markdown",
   "metadata": {},
   "source": [
    "*Question 4b answer...*"
   ]
  },
  {
   "cell_type": "code",
   "execution_count": null,
   "metadata": {
    "collapsed": true
   },
   "outputs": [],
   "source": []
  },
  {
   "cell_type": "markdown",
   "metadata": {},
   "source": [
    "#### Question 4c (2 marks)\n",
    "\n",
    "Change the program **commandme.py** (below) so it can accept command line arguments, and could be run as: \n",
    "\n",
    "    python3 commandme.py 42 SPAM                # print SPAM 42 times\n",
    "    \n",
    "(You won't be able to run it through Jupyter Notebook - just make the code changes for using command line arguments)"
   ]
  },
  {
   "cell_type": "code",
   "execution_count": null,
   "metadata": {},
   "outputs": [],
   "source": [
    "# Question 4c - commandme.py\n",
    "\n",
    "count = 7\n",
    "thestring = \"EGGS\"\n",
    "\n",
    "for i in range(count):\n",
    "    print(thestring)\n"
   ]
  },
  {
   "cell_type": "markdown",
   "metadata": {},
   "source": [
    "#### Question 4d (2 marks)\n",
    "\n",
    "Update the regular expression code below to match (specifically) the messy data in the file **regex.txt**"
   ]
  },
  {
   "cell_type": "code",
   "execution_count": null,
   "metadata": {},
   "outputs": [],
   "source": [
    "import re\n",
    "\n",
    "phoneRegex = re.compile(r'''(\n",
    "            (\\w+)             \n",
    "            :\\s\n",
    "            (\\d{8})\n",
    "            )''', re.VERBOSE)     # update the regular expression \n",
    "                                  # in preceding lines\n",
    "                                  # do not alter the lines below\n",
    "fileobj = open('data/regex.txt')\n",
    "data = fileobj.readlines()\n",
    "names = []\n",
    "numbers = []\n",
    "num_lines = len(data)\n",
    "num_matched = 0\n",
    "\n",
    "for number in data:\n",
    "    number = number.strip()\n",
    "    mo = phoneRegex.search(number)\n",
    "    if mo:\n",
    "        names.append(mo.group(2))   \n",
    "        numbers.append(mo.group(3))   \n",
    "        num_matched +=1\n",
    "        \n",
    "for i in range(len(names)):\n",
    "    print(\"Name: \", names[i], \"Number: \", numbers[i])\n",
    "print(\">>>\", num_matched, \"of\", num_lines, \"matched\")"
   ]
  },
  {
   "cell_type": "code",
   "execution_count": null,
   "metadata": {
    "collapsed": true
   },
   "outputs": [],
   "source": []
  },
  {
   "cell_type": "raw",
   "metadata": {},
   "source": []
  },
  {
   "cell_type": "markdown",
   "metadata": {},
   "source": [
    "* [Back to Top](#Contents)\n",
    "____\n",
    "### Question 5 - Object Orientation (10 marks)\n",
    "\n",
    "#### Question 5a (4 marks)\n",
    "\n",
    "Using the pet shelter and animal examples from the lectures (or create your own, if you want to), extend the classes to include more real-world information. Note: You don't need to do all of the fields - choose from those given below or on the example website...\n",
    "\n",
    "- Name: Sam \n",
    "- Type: Male domestic long hair cat (could be multiple fields)\n",
    "- Rescue group: RSPCA WA\n",
    "- PetRescue ID: 854820\n",
    "- Location: Malaga, WA\n",
    "- Age: 12 years 5 months\n",
    "- Adoption fee: $140.00\n",
    "- Coat: Short\n",
    "- Short Description:\n",
    "- Description: long text\n",
    "- Desexed: Yes\n",
    "- Vaccinated: Yes\n",
    "- Interstate adoption: (WA)\n",
    "- Wormed: Yes\n",
    "- Photo: photolink\n",
    "- Microchip number: 943094330287507\n",
    "- Sheltermate ID: 57893\n",
    "- Last updated: 07 Jun, 2021\n",
    "\n",
    "The animal object(s) should be initialised with all \"fixed\" details. The values should be updatable using **methods** . You should be able to convert the object to a string, using a method.\n",
    "\n",
    "Create and print a cat, dog and rabbit as a test of your class. More examples can be found at https://www.petrescue.com.au/"
   ]
  },
  {
   "cell_type": "code",
   "execution_count": null,
   "metadata": {
    "collapsed": true
   },
   "outputs": [],
   "source": [
    "# code for 5a here\n"
   ]
  },
  {
   "cell_type": "markdown",
   "metadata": {},
   "source": [
    "#### Question 5b (2 marks)\n",
    "\n",
    "Provide code to define a class **shelter** to represent shelter objects. The class should include:\n",
    "\n",
    "- Name: RSPCA WA\n",
    "- Contact name: Retail/Adoptions\n",
    "- Phone number:\t08 9209 9323\n",
    "- Website: https://www.rspcawa.org.au/\n",
    "- Address: 108 Malaga Drive, Malaga, 6090 WA \n",
    "\n",
    "The shelter object should be initialised with all of its details. The values should be updatable using **methods** . You should be able to convert the object to a string, using a method.\n",
    "\n",
    "Create and print two shelter objects as a test of your class e.g. https://www.petrescue.com.au/groups/11248/RSPCA-WA"
   ]
  },
  {
   "cell_type": "code",
   "execution_count": null,
   "metadata": {
    "collapsed": true
   },
   "outputs": [],
   "source": [
    "# code for 5b here"
   ]
  },
  {
   "cell_type": "markdown",
   "metadata": {},
   "source": [
    "#### Question 5c (4 marks)\n",
    "\n",
    "Now provide code to:\n",
    "- Build a class/classes to keep records for a veterinary business\n",
    "- You will need to represent the business, the patients (animals) and the owners - consider the relationship between the owner/pet in this model.\n",
    "\n",
    "Create and print objects as a test of your classes.\n",
    "\n",
    "**Bonus marks:** for using inheritance throughout Question 5 - but it's not required **(2 marks)**"
   ]
  },
  {
   "cell_type": "code",
   "execution_count": null,
   "metadata": {
    "collapsed": true
   },
   "outputs": [],
   "source": [
    "# code for 5c here"
   ]
  },
  {
   "cell_type": "markdown",
   "metadata": {},
   "source": [
    "* [Back to Top](#Contents)\n",
    "____\n",
    "## One Last thing...\n",
    "Copy and paste the version information for packages in this cell, and into your README file. You generate it by running the code in the cell below... **(1 mark deducted if no README)**\n",
    "\n",
    "My package version information is: \n",
    "\n",
    "* pandas==0.23.4 (example)\n",
    "* numpy==1.15.1 (example)\n",
    "* matplotlib==2.2.3 (example)"
   ]
  },
  {
   "cell_type": "code",
   "execution_count": null,
   "metadata": {},
   "outputs": [],
   "source": [
    "import pkg_resources\n",
    "# don't change this code \n",
    "# list packages to show your environment \n",
    "# from https://stackoverflow.com/questions/40428931/package-for-listing-version-of-packages-used-in-a-jupyter-notebook\n",
    "root_packages = ['pandas', 'numpy', 'matplotlib']\n",
    "# print versions, but check if package is imported first\n",
    "# syntax error fix from Piazza post @546\n",
    "# 0\n",
    "for m in pkg_resources.working_set:\n",
    "    if m.project_name.lower() in root_packages:\n",
    "        print(m.project_name, \"==\", m.version)"
   ]
  },
  {
   "cell_type": "code",
   "execution_count": null,
   "metadata": {
    "collapsed": true
   },
   "outputs": [],
   "source": []
  }
 ],
 "metadata": {
  "anaconda-cloud": {},
  "kernelspec": {
   "display_name": "Python 3 (ipykernel)",
   "language": "python",
   "name": "python3"
  },
  "language_info": {
   "codemirror_mode": {
    "name": "ipython",
    "version": 3
   },
   "file_extension": ".py",
   "mimetype": "text/x-python",
   "name": "python",
   "nbconvert_exporter": "python",
   "pygments_lexer": "ipython3",
   "version": "3.9.7"
  }
 },
 "nbformat": 4,
 "nbformat_minor": 2
}
